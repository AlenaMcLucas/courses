{
 "cells": [
  {
   "cell_type": "markdown",
   "metadata": {},
   "source": [
    "# Introduction to Machine Learning with SkiKit Learn"
   ]
  },
  {
   "cell_type": "markdown",
   "metadata": {},
   "source": [
    "**Machine learning** - A machine learning program is said to learn from experience E (data) with respect to some class of tasks T (analysis) and performance measure P (validation), if its performance at tasks in T, as measured by P, improves with experience E.\n",
    "\n",
    "**Supervised learning** - have a dataset consisting of both features (dependent variables) and labels (independent variables) with the task of constructing an estimator to predict the label of an object given the set of features. Two categories are regression and classification.\n",
    "\n",
    "**Classification** - discrete (aka an example belongs to precisely one class) and the set of classes covers the whole possible output space i.e. classifying a tumor as either malignent or benign based on input data.\n",
    "\n",
    "**Regression** - given some data the machine assumes those values come from some sort of function and attempts to find out what the function is, trying to fit a mathematical function that describes a curve such that the curve passes as close as possible to all data points i.e. predicting house prices based on input data.\n",
    "\n",
    "**Unsupervised learning** - data has no labels and we are interested in finding similarities between the objects in question, can operate as a means of discovering labels from the data itself i.e. given a mixture of sound sources try to separate the sources of each particular sound."
   ]
  },
  {
   "cell_type": "code",
   "execution_count": null,
   "metadata": {
    "collapsed": true
   },
   "outputs": [],
   "source": []
  }
 ],
 "metadata": {
  "kernelspec": {
   "display_name": "Python 2",
   "language": "python",
   "name": "python2"
  },
  "language_info": {
   "codemirror_mode": {
    "name": "ipython",
    "version": 2
   },
   "file_extension": ".py",
   "mimetype": "text/x-python",
   "name": "python",
   "nbconvert_exporter": "python",
   "pygments_lexer": "ipython2",
   "version": "2.7.11"
  }
 },
 "nbformat": 4,
 "nbformat_minor": 0
}
