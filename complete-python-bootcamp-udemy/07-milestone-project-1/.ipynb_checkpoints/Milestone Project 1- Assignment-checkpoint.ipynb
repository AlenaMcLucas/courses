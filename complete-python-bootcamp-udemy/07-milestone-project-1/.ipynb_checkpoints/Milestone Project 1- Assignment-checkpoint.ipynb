{
 "cells": [
  {
   "cell_type": "markdown",
   "metadata": {},
   "source": [
    "# Milestone Project 1\n",
    "\n",
    "Create a Tic Tac Toe game. Here are the requirements:\n",
    "\n",
    "* 2 players should be able to play the game (both sitting at the same computer)\n",
    "* The board should be printed out every time a player makes a move\n",
    "* You should be able to accept input of the player position and then place a symbol on the board\n",
    "\n",
    "Feel free to use Google to help you figure anything out (but don't just Google \"Tic Tac Toe in Python\" otherwise you won't learn anything!) Keep in mind that this project can take anywhere between several hours to several days."
   ]
  },
  {
   "cell_type": "code",
   "execution_count": 75,
   "metadata": {
    "collapsed": true
   },
   "outputs": [],
   "source": [
    "import re"
   ]
  },
  {
   "cell_type": "code",
   "execution_count": 76,
   "metadata": {
    "collapsed": true
   },
   "outputs": [],
   "source": [
    "# initialize an empty board, that it's x's turns, no one has won, and no tie\n",
    "board = [[' ',' ',' '],[' ',' ',' '],[' ',' ',' ']]\n",
    "x_turn = True\n",
    "win = False\n",
    "tie = False"
   ]
  },
  {
   "cell_type": "code",
   "execution_count": 77,
   "metadata": {
    "collapsed": true
   },
   "outputs": [],
   "source": [
    "def print_board():\n",
    "    '''\n",
    "    Print the board in its current state.\n",
    "    '''\n",
    "    print board[0][0] + \" | \" + board[0][1] + \" | \" + board[0][2]\n",
    "    print \"---------\"\n",
    "    print board[1][0] + \" | \" + board[1][1] + \" | \" + board[1][2]\n",
    "    print \"---------\"\n",
    "    print board[2][0] + \" | \" + board[2][1] + \" | \" + board[2][2]"
   ]
  },
  {
   "cell_type": "code",
   "execution_count": 78,
   "metadata": {
    "collapsed": true
   },
   "outputs": [],
   "source": [
    "def input_check(this_input):\n",
    "    '''\n",
    "    Validate the user's input is exactly two digits, each inclusively \n",
    "    between 1-3.\n",
    "    '''\n",
    "    pattern = r\"^[1-3][1-3]$\"\n",
    "    \n",
    "    if re.match(pattern,this_input):\n",
    "        return True\n",
    "    else:\n",
    "        return False"
   ]
  },
  {
   "cell_type": "code",
   "execution_count": 79,
   "metadata": {
    "collapsed": true
   },
   "outputs": [],
   "source": [
    "def turn(current_player):\n",
    "    '''\n",
    "    One complete turn for the passed player.\n",
    "    '''\n",
    "    move_check = str(raw_input(\"What space would you like to mark an '{player}' in (i.e. 13)?\".format(player=current_player)))\n",
    "    \n",
    "    # if input passes validation...\n",
    "    if input_check(move_check):\n",
    "        \n",
    "        # list of two ints for row/column\n",
    "        move_int = [int(char) for char in move_check]\n",
    "        \n",
    "        # new position a player wants to take\n",
    "        position = board[move_int[0]-1][move_int[1]-1]\n",
    "        \n",
    "        # if the new position is occupied, they can't take it and must try again\n",
    "        if position == 'x' or position == 'o':\n",
    "            print \"That space is already taken.\"\n",
    "            turn(current_player)\n",
    "        # if not, the player can take the spot and the board is printed\n",
    "        else:\n",
    "            board[move_int[0]-1][move_int[1]-1] = current_player\n",
    "            print_board()\n",
    "    \n",
    "    # if input fails validation, they must try again\n",
    "    else:\n",
    "        print \"Not a valid input.\"\n",
    "        turn(current_player)"
   ]
  },
  {
   "cell_type": "code",
   "execution_count": 80,
   "metadata": {
    "collapsed": true
   },
   "outputs": [],
   "source": [
    "def win_check():\n",
    "    '''\n",
    "    Check if any player has won the game.\n",
    "    '''\n",
    "    global win\n",
    "    \n",
    "    # check rows\n",
    "    if ('x' in board[0] or 'o' in board[0]) and board[0][0] == board[0][1] == board[0][2]:\n",
    "        win = True\n",
    "    elif ('x' in board[1] or 'o' in board[1]) and board[1][0] == board[1][1] == board[1][2]:\n",
    "        win = True\n",
    "    elif ('x' in board[2] or 'o' in board[2]) and board[2][0] == board[2][1] == board[2][2]:\n",
    "        win = True\n",
    "        \n",
    "    # check columns\n",
    "    if ('x' in board[0][0] or 'o' in board[0][0]) and board[0][0] == board[1][0] == board[2][0]:\n",
    "        win = True\n",
    "    elif ('x' in board[0][1] or 'o' in board[0][1]) and board[0][1] == board[1][1] == board[2][1]:\n",
    "        win = True\n",
    "    elif ('x' in board[0][2] or 'o' in board[0][2]) and board[0][2] == board[1][2] == board[2][2]:\n",
    "        win = True\n",
    "        \n",
    "    # check diagonals\n",
    "    if ('x' in board[0][0] or 'o' in board[0][0]) and board[0][0] == board[1][1] == board[2][2]:\n",
    "        win = True\n",
    "    elif ('x' in board[0][2] or 'o' in board[0][2]) and board[0][2] == board[1][1] == board[2][0]:\n",
    "        win = True"
   ]
  },
  {
   "cell_type": "code",
   "execution_count": 81,
   "metadata": {
    "collapsed": false
   },
   "outputs": [],
   "source": [
    "def tie_check():\n",
    "    '''\n",
    "    Check if there has been a tie/all spaces have been taken.\n",
    "    '''\n",
    "    global tie\n",
    "    tie_counter = 0\n",
    "    \n",
    "    # iterate through each item\n",
    "    for row in board:\n",
    "        for space in row:\n",
    "            # count the number of x's and o's\n",
    "            if space == 'x' or space =='o':\n",
    "                tie_counter += 1\n",
    "    \n",
    "    # if the board is full, we have a tie\n",
    "    if tie_counter == 9:\n",
    "        tie = True"
   ]
  },
  {
   "cell_type": "code",
   "execution_count": 82,
   "metadata": {
    "collapsed": false
   },
   "outputs": [
    {
     "name": "stdout",
     "output_type": "stream",
     "text": [
      "What space would you like to mark an 'x' in (i.e. 13)?11\n",
      "x |   |  \n",
      "---------\n",
      "  |   |  \n",
      "---------\n",
      "  |   |  \n",
      "What space would you like to mark an 'o' in (i.e. 13)?33\n",
      "x |   |  \n",
      "---------\n",
      "  |   |  \n",
      "---------\n",
      "  |   | o\n",
      "What space would you like to mark an 'x' in (i.e. 13)?22\n",
      "x |   |  \n",
      "---------\n",
      "  | x |  \n",
      "---------\n",
      "  |   | o\n",
      "What space would you like to mark an 'o' in (i.e. 13)?31\n",
      "x |   |  \n",
      "---------\n",
      "  | x |  \n",
      "---------\n",
      "o |   | o\n",
      "What space would you like to mark an 'x' in (i.e. 13)?32\n",
      "x |   |  \n",
      "---------\n",
      "  | x |  \n",
      "---------\n",
      "o | x | o\n",
      "What space would you like to mark an 'o' in (i.e. 13)?12\n",
      "x | o |  \n",
      "---------\n",
      "  | x |  \n",
      "---------\n",
      "o | x | o\n",
      "What space would you like to mark an 'x' in (i.e. 13)?13\n",
      "x | o | x\n",
      "---------\n",
      "  | x |  \n",
      "---------\n",
      "o | x | o\n",
      "What space would you like to mark an 'o' in (i.e. 13)?21\n",
      "x | o | x\n",
      "---------\n",
      "o | x |  \n",
      "---------\n",
      "o | x | o\n",
      "What space would you like to mark an 'x' in (i.e. 13)?23\n",
      "x | o | x\n",
      "---------\n",
      "o | x | x\n",
      "---------\n",
      "o | x | o\n",
      "We have a tie...\n"
     ]
    }
   ],
   "source": [
    "# game decisions\n",
    "\n",
    "# as long as no one has won...\n",
    "while win == False and tie == False:\n",
    "    # give the current player their turn\n",
    "    if x_turn == True:\n",
    "        turn('x')\n",
    "    else:\n",
    "        turn('o')\n",
    "    \n",
    "    # switch turns\n",
    "    x_turn = not x_turn\n",
    "    # check for win\n",
    "    win_check()\n",
    "    # check for tie\n",
    "    tie_check()\n",
    "\n",
    "# print statements for win or tie\n",
    "if win == True:\n",
    "    print \"We have a winner!\"\n",
    "elif tie == True:\n",
    "    print \"We have a tie...\""
   ]
  },
  {
   "cell_type": "code",
   "execution_count": null,
   "metadata": {
    "collapsed": true
   },
   "outputs": [],
   "source": []
  }
 ],
 "metadata": {
  "kernelspec": {
   "display_name": "Python 2",
   "language": "python",
   "name": "python2"
  },
  "language_info": {
   "codemirror_mode": {
    "name": "ipython",
    "version": 2
   },
   "file_extension": ".py",
   "mimetype": "text/x-python",
   "name": "python",
   "nbconvert_exporter": "python",
   "pygments_lexer": "ipython2",
   "version": "2.7.11"
  }
 },
 "nbformat": 4,
 "nbformat_minor": 0
}
