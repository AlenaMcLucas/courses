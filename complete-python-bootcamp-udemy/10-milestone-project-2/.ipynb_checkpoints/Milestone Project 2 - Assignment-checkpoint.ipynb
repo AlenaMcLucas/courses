{
 "cells": [
  {
   "cell_type": "markdown",
   "metadata": {},
   "source": [
    "# Milestone Project 2 - Blackjack Game\n",
    "\n",
    "In this milestone project you will be creating a Complete BlackJack Card Game in Python.\n",
    "\n",
    "Here are the requirements:\n",
    "\n",
    "* You need to create a simple text-based [BlackJack](https://en.wikipedia.org/wiki/Blackjack) game\n",
    "* The game needs to have one player versus an automated dealer.\n",
    "* The player can stand or hit.\n",
    "* The player must be able to pick their betting amount.\n",
    "* You need to keep track of the players total money.\n",
    "* You need to alert the player of wins, losses, or busts, etc...\n",
    "\n",
    "And most importantly:\n",
    "\n",
    "* **You must use OOP and classes in some portion of your game. You can not just use functions in your game. Use classes to help you define the Deck and the Player's hand. There are many right ways to do this, so explore it well!**"
   ]
  },
  {
   "cell_type": "code",
   "execution_count": 54,
   "metadata": {
    "collapsed": false
   },
   "outputs": [],
   "source": [
    "from random import shuffle\n",
    "\n",
    "suits = {'H','D','C','S'}\n",
    "\n",
    "ranks = {'A':1,'2':2,'3':3,'4':4,'5':5,'6':6,'7':7,'8':8,'9':9,'10':10,'J':10,'Q':10,'K':10}\n",
    "\n",
    "class Card:\n",
    "    def __init__(self,suit,rank):\n",
    "        self.suit = suit\n",
    "        self.rank = rank\n",
    "        \n",
    "    def __str__(self):\n",
    "        return self.suit + self.rank\n",
    "        \n",
    "    def get_suit(self):\n",
    "        return self.suit\n",
    "    \n",
    "    def get_rank(self):\n",
    "        return self.rank\n",
    "    \n",
    "class Deck:\n",
    "    def __init__(self):\n",
    "        self.deck = []\n",
    "        \n",
    "        for suit in suits:\n",
    "            for rank in ranks:\n",
    "                self.deck.append(Card(suit,rank))\n",
    "    \n",
    "    def shuffle_deck(self):\n",
    "        shuffle(self.deck)\n",
    "    \n",
    "    def get_deck(self):\n",
    "        self.shuffle_deck()\n",
    "        deck_cards = \"Cards in deck: \"\n",
    "        for card in self.deck:\n",
    "            deck_cards = deck_cards + card.__str__() + \" \"\n",
    "        \n",
    "        print deck_cards\n",
    "    \n",
    "    def deal_card(self):\n",
    "        this_card = self.deck.pop()\n",
    "        return this_card"
   ]
  },
  {
   "cell_type": "code",
   "execution_count": 53,
   "metadata": {
    "collapsed": false
   },
   "outputs": [
    {
     "name": "stdout",
     "output_type": "stream",
     "text": [
      "Cards in deck: S3 C3 S10 C4 D2 D8 HA SK CJ C9 SJ CK H2 D7 HJ S9 DA S4 D3 H7 H3 D9 CA H4 H9 SQ D4 D5 H6 SA D10 C5 C6 C2 DQ D6 CQ HK H5 S6 S2 H8 C7 C8 C10 S7 S8 S5 H10 DK HQ DJ \n"
     ]
    }
   ],
   "source": [
    "my_deck = Deck()\n",
    "my_deck.get_deck()"
   ]
  },
  {
   "cell_type": "code",
   "execution_count": null,
   "metadata": {
    "collapsed": true
   },
   "outputs": [],
   "source": []
  }
 ],
 "metadata": {
  "kernelspec": {
   "display_name": "Python 2",
   "language": "python",
   "name": "python2"
  },
  "language_info": {
   "codemirror_mode": {
    "name": "ipython",
    "version": 2
   },
   "file_extension": ".py",
   "mimetype": "text/x-python",
   "name": "python",
   "nbconvert_exporter": "python",
   "pygments_lexer": "ipython2",
   "version": "2.7.11"
  }
 },
 "nbformat": 4,
 "nbformat_minor": 0
}
